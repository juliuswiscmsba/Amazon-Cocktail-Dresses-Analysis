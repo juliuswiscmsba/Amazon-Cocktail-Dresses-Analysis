{
 "cells": [
  {
   "cell_type": "code",
   "execution_count": 1,
   "id": "75e881dd",
   "metadata": {},
   "outputs": [],
   "source": [
    "from selenium import webdriver\n",
    "import pandas as pd\n",
    "from selenium.webdriver.common.by import By\n",
    "#from selenium.webdriver.chrome.options import Options\n",
    "from selenium.webdriver.firefox.options import Options\n",
    "import time"
   ]
  },
  {
   "cell_type": "code",
   "execution_count": 2,
   "id": "a77bce52",
   "metadata": {},
   "outputs": [],
   "source": [
    "options = Options()\n",
    "options.add_argument(\"--disable-notifications\")\n",
    "options.add_argument('start-maximized')"
   ]
  },
  {
   "cell_type": "code",
   "execution_count": 6,
   "id": "c20201f0",
   "metadata": {},
   "outputs": [
    {
     "name": "stderr",
     "output_type": "stream",
     "text": [
      "<ipython-input-6-2450151217bd>:2: DeprecationWarning: executable_path has been deprecated, please pass in a Service object\n",
      "  chrome = webdriver.Firefox(executable_path=r'/Users/mingtsung/Desktop/爬蟲/geckodriver', options=options)\n"
     ]
    },
    {
     "name": "stdout",
     "output_type": "stream",
     "text": [
      "50\n",
      "100\n"
     ]
    }
   ],
   "source": [
    "#chrome = webdriver.Chrome('./chromedriver', chrome_options=options)\n",
    "chrome = webdriver.Firefox(executable_path=r'/Users/mingtsung/Desktop/爬蟲/geckodriver', options=options)\n",
    "obj_link = []\n",
    "for i in range(2):\n",
    "    chrome.get(\"https://www.amazon.com/Best-Sellers-Clothing-Shoes-Jewelry-Womens-Cocktail-Dresses/zgbs/fashion/11006703011/ref=zg_bs_nav_fashion_4_2346727011/ref=zg_bs_pg_{}?_encoding=UTF8&pg={}\".format(i+1, i+1))\n",
    "    chrome.implicitly_wait(2)\n",
    "    js = \"var q=document.documentElement.scrollTop=5500\"\n",
    "    chrome.execute_script(js)\n",
    "    time.sleep(1)\n",
    "    js = \"var q=document.documentElement.scrollTop=7800\"\n",
    "    chrome.execute_script(js)\n",
    "    time.sleep(1)\n",
    "    cats=chrome.find_elements(By.XPATH, \"//div[@class = 'zg-grid-general-faceout']/div/a[1]\")\n",
    "    for cat in cats:\n",
    "        url = cat.get_attribute('href')\n",
    "        obj_link.append(url)\n",
    "    print(len(obj_link))\n"
   ]
  },
  {
   "cell_type": "code",
   "execution_count": 28,
   "id": "5ca5c29c",
   "metadata": {},
   "outputs": [
    {
     "name": "stderr",
     "output_type": "stream",
     "text": [
      "<ipython-input-28-10af23f0ead0>:1: DeprecationWarning: executable_path has been deprecated, please pass in a Service object\n",
      "  chrome = webdriver.Firefox(executable_path=r'/Users/mingtsung/Desktop/爬蟲/geckodriver', options=options)\n"
     ]
    }
   ],
   "source": [
    "chrome = webdriver.Firefox(executable_path=r'/Users/mingtsung/Desktop/爬蟲/geckodriver', options=options)"
   ]
  },
  {
   "cell_type": "code",
   "execution_count": 29,
   "id": "ac9a61dd",
   "metadata": {},
   "outputs": [],
   "source": [
    "name, price, seller, rating, top_reviews, rating_count, question_count = [], [], [], [], [], [], []\n",
    "for j in obj_link:\n",
    "    chrome.get(j)\n",
    "    n = chrome.find_elements(By.XPATH, \"//div[@id = 'titleSection']/h1/span[1]\")\n",
    "    n = n[0].get_attribute('textContent')\n",
    "    name.append(str.strip(n))\n",
    "    try:\n",
    "        p = chrome.find_elements(By.XPATH, \"//div[@class = 'a-section a-spacing-none aok-align-center']/span/span[1]\")\n",
    "        p = p[0].get_attribute('textContent')\n",
    "        price.append(p[1:])\n",
    "    except:\n",
    "        p = chrome.find_elements(By.XPATH, \"//span[@class = 'a-offscreen']\")\n",
    "        p = p[0].get_attribute('textContent')\n",
    "        price.append(p[1:])\n",
    "    try:\n",
    "        s = chrome.find_elements(By.XPATH, \"//div[@class = 'a-section a-spacing-none']/a[1]\")\n",
    "        s = s[0].get_attribute('textContent')\n",
    "        if 'out' in s:\n",
    "            s = chrome.find_elements(By.XPATH, \"//div[@id = 'amznStoresBylineLogoTextContainer']/a[1]\")\n",
    "            s = s[0].get_attribute('textContent')\n",
    "            seller.append(str.strip(s))\n",
    "        else:\n",
    "            seller.append(s)\n",
    "    except:\n",
    "        s = chrome.find_elements(By.XPATH, \"//div[@id = 'amznStoresBylineLogoTextContainer']/a[1]\")\n",
    "        s = s[0].get_attribute('textContent')\n",
    "        seller.append(str.strip(s))\n",
    "    r = chrome.find_elements(By.XPATH, \"//span[@class = 'a-size-medium a-color-base']\")\n",
    "    r = r[0].get_attribute('textContent')\n",
    "    rating.append(r)\n",
    "    re = chrome.find_elements(By.XPATH, \"//div[@class = 'a-section review aok-relative']//div[@class = 'a-expander-content reviewText review-text-content a-expander-partial-collapse-content']/span\")\n",
    "    reviews = []\n",
    "    for k in re:\n",
    "        review = k.get_attribute('textContent')\n",
    "        reviews.append(review)\n",
    "    top_reviews.append(reviews)\n",
    "    \n",
    "    rc = chrome.find_elements(By.XPATH, \"//span[@id = 'acrCustomerReviewText']\")\n",
    "    rc = rc[0].get_attribute('textContent')[:-8]\n",
    "    rating_count.append(str.strip(rc))\n",
    "    \n",
    "    try:\n",
    "        q = chrome.find_elements(By.XPATH, \"//a[@class = 'a-link-normal askATFLink']/span\")\n",
    "        q = q[0].get_attribute('textContent')[:-20]\n",
    "        question_count.append(str.strip(q))\n",
    "    except:\n",
    "        question_count.append(0)\n",
    "chrome.close()"
   ]
  },
  {
   "cell_type": "code",
   "execution_count": 30,
   "id": "269a8684",
   "metadata": {},
   "outputs": [],
   "source": [
    "df_amazon = pd.DataFrame(list(zip(name, price, seller, rating, top_reviews, rating_count, question_count)), columns = ['name', 'price', 'seller','rating', 'top_reviews', 'rating_count', 'question_count'])\n",
    "df_amazon.to_csv(\"amazon_dresses2.csv\",index=False)"
   ]
  },
  {
   "cell_type": "code",
   "execution_count": null,
   "id": "3bdd5c37",
   "metadata": {},
   "outputs": [],
   "source": []
  }
 ],
 "metadata": {
  "kernelspec": {
   "display_name": "Python 3",
   "language": "python",
   "name": "python3"
  },
  "language_info": {
   "codemirror_mode": {
    "name": "ipython",
    "version": 3
   },
   "file_extension": ".py",
   "mimetype": "text/x-python",
   "name": "python",
   "nbconvert_exporter": "python",
   "pygments_lexer": "ipython3",
   "version": "3.8.2"
  }
 },
 "nbformat": 4,
 "nbformat_minor": 5
}
